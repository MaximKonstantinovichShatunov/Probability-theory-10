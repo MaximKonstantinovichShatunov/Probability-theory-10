{
 "cells": [
  {
   "cell_type": "markdown",
   "id": "6d0b5797",
   "metadata": {},
   "source": [
    "## Итоговый проект\n",
    "    Провести дисперсионный анализ для определения того, есть ли различия среднего роста среди взрослых футболистов,\n",
    "    хоккеистов и штангистов.\n",
    "    Даны значения роста в трех группах случайно выбранных спортсменов:\n",
    "\n",
    "    Футболисты: 173, 175, 180, 178, 177, 185, 183, 182.\n",
    "\n",
    "    Хоккеисты: 177, 179, 180, 188, 177, 172, 171, 184, 180.\n",
    "\n",
    "    Штангисты: 172, 173, 169, 177, 166, 180, 178, 177, 172, 166, 170."
   ]
  },
  {
   "cell_type": "code",
   "execution_count": 2,
   "id": "8635c28a",
   "metadata": {},
   "outputs": [],
   "source": [
    "import numpy as np\n",
    "from scipy import stats\n",
    "from statsmodels.stats.multicomp import pairwise_tukeyhsd"
   ]
  },
  {
   "cell_type": "code",
   "execution_count": 3,
   "id": "4b85e1f2",
   "metadata": {},
   "outputs": [],
   "source": [
    "football  = np.array([173, 175, 180, 178, 177, 185, 183, 182])\n",
    "hockey = np.array([177, 179, 180, 188, 177, 172, 171, 184, 180])\n",
    "weightlifters = np.array([172, 173, 169, 177, 166, 180, 178, 177, 172, 166, 170])"
   ]
  },
  {
   "cell_type": "code",
   "execution_count": 4,
   "id": "3e06656b",
   "metadata": {},
   "outputs": [
    {
     "data": {
      "text/plain": [
       "0.010482206918698694"
      ]
     },
     "execution_count": 4,
     "metadata": {},
     "output_type": "execute_result"
    }
   ],
   "source": [
    "stats.f_oneway(football, hockey, weightlifters)[1]"
   ]
  },
  {
   "cell_type": "markdown",
   "id": "b8a4e449",
   "metadata": {},
   "source": [
    "есть различия"
   ]
  },
  {
   "cell_type": "code",
   "execution_count": 6,
   "id": "5ed19834",
   "metadata": {},
   "outputs": [
    {
     "name": "stdout",
     "output_type": "stream",
     "text": [
      "    Multiple Comparison of Means - Tukey HSD, FWER=0.05     \n",
      "============================================================\n",
      "  group1     group2  meandiff p-adj   lower    upper  reject\n",
      "------------------------------------------------------------\n",
      "футболисты хоккеисты  -0.4583  0.979  -6.2732  5.3566  False\n",
      "футболисты штангисты  -6.3977 0.0219 -11.9583 -0.8372   True\n",
      " хоккеисты штангисты  -5.9394 0.0284 -11.3181 -0.5607   True\n",
      "------------------------------------------------------------\n"
     ]
    }
   ],
   "source": [
    "tukey = pairwise_tukeyhsd(endog=np.hstack((football, hockey, weightlifters)),\n",
    "                          groups=np.repeat(['футболисты', 'хоккеисты', 'штангисты'], repeats=(\n",
    "                              len(football), len(hockey), len(weightlifters))),\n",
    "                          alpha=0.05)\n",
    "print(tukey)"
   ]
  },
  {
   "cell_type": "markdown",
   "id": "b26395c6",
   "metadata": {},
   "source": [
    "рост штангистов отличается от роста хоккеистов и футболистов"
   ]
  },
  {
   "cell_type": "code",
   "execution_count": null,
   "id": "75331187",
   "metadata": {},
   "outputs": [],
   "source": []
  }
 ],
 "metadata": {
  "kernelspec": {
   "display_name": "Python 3 (ipykernel)",
   "language": "python",
   "name": "python3"
  },
  "language_info": {
   "codemirror_mode": {
    "name": "ipython",
    "version": 3
   },
   "file_extension": ".py",
   "mimetype": "text/x-python",
   "name": "python",
   "nbconvert_exporter": "python",
   "pygments_lexer": "ipython3",
   "version": "3.9.13"
  }
 },
 "nbformat": 4,
 "nbformat_minor": 5
}
